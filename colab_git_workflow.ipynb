{
  "cells": [
    {
      "cell_type": "markdown",
      "metadata": {
        "id": "view-in-github",
        "colab_type": "text"
      },
      "source": [
        "<a href=\"https://colab.research.google.com/github/sai-del-cielo/colab_workflow/blob/main/colab_git_workflow.ipynb\" target=\"_parent\"><img src=\"https://colab.research.google.com/assets/colab-badge.svg\" alt=\"Open In Colab\"/></a>"
      ]
    },
    {
      "cell_type": "code",
      "execution_count": null,
      "metadata": {
        "colab": {
          "base_uri": "https://localhost:8080/"
        },
        "id": "Rxpb4bQlHX9H",
        "outputId": "437da896-9cdb-4122-faec-d3a126e6a7ac"
      },
      "outputs": [
        {
          "name": "stdout",
          "output_type": "stream",
          "text": [
            "Mounted at /content/GDrive\n"
          ]
        }
      ],
      "source": [
        "from google.colab import drive\n",
        "import os\n",
        "drive.mount('/content/GDrive')\n",
        "\n",
        "import pandas as pd"
      ]
    },
    {
      "cell_type": "code",
      "execution_count": null,
      "metadata": {
        "colab": {
          "base_uri": "https://localhost:8080/"
        },
        "id": "9mSREbVTGqSJ",
        "outputId": "682d8a09-a896-4e3d-be38-a0f53308daa3"
      },
      "outputs": [
        {
          "name": "stdout",
          "output_type": "stream",
          "text": [
            "Cloning into 'colab_workflow'...\n",
            "remote: Enumerating objects: 6, done.\u001b[K\n",
            "remote: Counting objects: 100% (6/6), done.\u001b[K\n",
            "remote: Compressing objects: 100% (5/5), done.\u001b[K\n",
            "remote: Total 6 (delta 0), reused 3 (delta 0), pack-reused 0\u001b[K\n",
            "Unpacking objects: 100% (6/6), done.\n"
          ]
        }
      ],
      "source": [
        "test_variable = \"testing\"\n",
        "!rm -r /content/colab_workflow\n",
        "!git clone https://github.com/sai-del-cielo/colab_workflow.git\n",
        "\n",
        "# Testing on VS code via direct download from Google Drive lol\n",
        "\n",
        "# Can I push to Github from Colab?\n"
      ]
    },
    {
      "cell_type": "code",
      "source": [
        "!cd /content/GDrive/MyDrive\n",
        "!git clone https://github.com/sai-del-cielo/data_engineering_data_validation.git"
      ],
      "metadata": {
        "colab": {
          "base_uri": "https://localhost:8080/"
        },
        "id": "lCl1wPjdWi76",
        "outputId": "7e9643e6-0495-4fae-efd5-b03ee521a04f"
      },
      "execution_count": null,
      "outputs": [
        {
          "output_type": "stream",
          "name": "stdout",
          "text": [
            "Cloning into 'data_engineering_data_validation'...\n",
            "remote: Enumerating objects: 11, done.\u001b[K\n",
            "remote: Counting objects: 100% (11/11), done.\u001b[K\n",
            "remote: Compressing objects: 100% (10/10), done.\u001b[K\n",
            "remote: Total 11 (delta 0), reused 0 (delta 0), pack-reused 0\u001b[K\n",
            "Unpacking objects: 100% (11/11), done.\n"
          ]
        }
      ]
    },
    {
      "cell_type": "code",
      "source": [
        "\n",
        "\n",
        "# data = \"/content/data_engineering_data_validation/Crash data.csv\"\n",
        "data = \"/content/GDrive/MyDrive/drive Crash data.csv\"\n",
        "\n",
        "df = pd.read_csv(data)\n",
        "\n",
        "df.describe()"
      ],
      "metadata": {
        "colab": {
          "base_uri": "https://localhost:8080/",
          "height": 519
        },
        "id": "Ydojcs1DXHX1",
        "outputId": "0539fb3a-012a-48e7-cb66-84981d812e5f"
      },
      "execution_count": 35,
      "outputs": [
        {
          "output_type": "execute_result",
          "data": {
            "text/plain": [
              "        Unnamed: 0      Crash ID  Record Type      Serial #  Crash Month  \\\n",
              "count   508.000000  5.080000e+02        508.0    508.000000   508.000000   \n",
              "mean   1368.942913  1.845724e+06          1.0   5459.167323     6.011811   \n",
              "std     810.869251  9.218482e+03          0.0  10171.318598     3.556234   \n",
              "min       0.000000  1.809119e+06          1.0      3.000000     1.000000   \n",
              "25%     649.750000  1.840652e+06          1.0   1504.750000     3.000000   \n",
              "50%    1361.500000  1.847382e+06          1.0   3280.500000     6.000000   \n",
              "75%    2079.250000  1.852390e+06          1.0   7332.500000     9.000000   \n",
              "max    2734.000000  1.860771e+06          1.0  99992.000000    12.000000   \n",
              "\n",
              "        Crash Day  Crash Year  Week Day Code  Crash Hour  County Code  ...  \\\n",
              "count  508.000000       508.0     508.000000  508.000000   508.000000  ...   \n",
              "mean    15.775591      2019.0       4.145669   14.153543    19.429134  ...   \n",
              "std      8.401937         0.0       1.991709    9.131304    10.030766  ...   \n",
              "min      1.000000      2019.0       1.000000    0.000000     3.000000  ...   \n",
              "25%      8.000000      2019.0       2.000000   10.000000     3.000000  ...   \n",
              "50%     16.000000      2019.0       4.000000   14.000000    26.000000  ...   \n",
              "75%     23.000000      2019.0       6.000000   17.000000    26.000000  ...   \n",
              "max     31.000000      2019.0       7.000000   99.000000    26.000000  ...   \n",
              "\n",
              "       Total Pedestrian Count  Total Pedestrian Fatality Count  \\\n",
              "count                   508.0                       508.000000   \n",
              "mean                      0.0                         0.007874   \n",
              "std                       0.0                         0.088473   \n",
              "min                       0.0                         0.000000   \n",
              "25%                       0.0                         0.000000   \n",
              "50%                       0.0                         0.000000   \n",
              "75%                       0.0                         0.000000   \n",
              "max                       0.0                         1.000000   \n",
              "\n",
              "       Total Pedestrian Non-Fatal Injury Count  Total Pedalcyclist Count  \\\n",
              "count                                    508.0                     508.0   \n",
              "mean                                       0.0                       0.0   \n",
              "std                                        0.0                       0.0   \n",
              "min                                        0.0                       0.0   \n",
              "25%                                        0.0                       0.0   \n",
              "50%                                        0.0                       0.0   \n",
              "75%                                        0.0                       0.0   \n",
              "max                                        0.0                       0.0   \n",
              "\n",
              "       Total Pedalcyclist Fatality Count  \\\n",
              "count                              508.0   \n",
              "mean                                 0.0   \n",
              "std                                  0.0   \n",
              "min                                  0.0   \n",
              "25%                                  0.0   \n",
              "50%                                  0.0   \n",
              "75%                                  0.0   \n",
              "max                                  0.0   \n",
              "\n",
              "       Total Pedalcyclist Non-Fatal Injury Count  \\\n",
              "count                                 508.000000   \n",
              "mean                                    2.683071   \n",
              "std                                     1.312942   \n",
              "min                                     1.000000   \n",
              "25%                                     2.000000   \n",
              "50%                                     2.000000   \n",
              "75%                                     3.000000   \n",
              "max                                     9.000000   \n",
              "\n",
              "       Total Unknown Non-Motorist Count  \\\n",
              "count                        508.000000   \n",
              "mean                           2.730315   \n",
              "std                            1.282605   \n",
              "min                            1.000000   \n",
              "25%                            2.000000   \n",
              "50%                            2.000000   \n",
              "75%                            3.000000   \n",
              "max                            9.000000   \n",
              "\n",
              "       Total Unknown Non-Motorist Fatality Count  \\\n",
              "count                                 508.000000   \n",
              "mean                                    1.893701   \n",
              "std                                     1.506239   \n",
              "min                                     0.000000   \n",
              "25%                                     1.000000   \n",
              "50%                                     2.000000   \n",
              "75%                                     3.000000   \n",
              "max                                     9.000000   \n",
              "\n",
              "       Total Unknown Non-Motorist Injury Count  Total Vehicle Occupant Count  \n",
              "count                               508.000000                    508.000000  \n",
              "mean                                  0.055118                      0.742126  \n",
              "std                                   0.403282                      0.853371  \n",
              "min                                   0.000000                      0.000000  \n",
              "25%                                   0.000000                      0.000000  \n",
              "50%                                   0.000000                      1.000000  \n",
              "75%                                   0.000000                      1.000000  \n",
              "max                                   7.000000                      5.000000  \n",
              "\n",
              "[8 rows x 87 columns]"
            ],
            "text/html": [
              "\n",
              "  <div id=\"df-6bfb463f-2c87-4c95-b26a-3807f4ebdbe4\">\n",
              "    <div class=\"colab-df-container\">\n",
              "      <div>\n",
              "<style scoped>\n",
              "    .dataframe tbody tr th:only-of-type {\n",
              "        vertical-align: middle;\n",
              "    }\n",
              "\n",
              "    .dataframe tbody tr th {\n",
              "        vertical-align: top;\n",
              "    }\n",
              "\n",
              "    .dataframe thead th {\n",
              "        text-align: right;\n",
              "    }\n",
              "</style>\n",
              "<table border=\"1\" class=\"dataframe\">\n",
              "  <thead>\n",
              "    <tr style=\"text-align: right;\">\n",
              "      <th></th>\n",
              "      <th>Unnamed: 0</th>\n",
              "      <th>Crash ID</th>\n",
              "      <th>Record Type</th>\n",
              "      <th>Serial #</th>\n",
              "      <th>Crash Month</th>\n",
              "      <th>Crash Day</th>\n",
              "      <th>Crash Year</th>\n",
              "      <th>Week Day Code</th>\n",
              "      <th>Crash Hour</th>\n",
              "      <th>County Code</th>\n",
              "      <th>...</th>\n",
              "      <th>Total Pedestrian Count</th>\n",
              "      <th>Total Pedestrian Fatality Count</th>\n",
              "      <th>Total Pedestrian Non-Fatal Injury Count</th>\n",
              "      <th>Total Pedalcyclist Count</th>\n",
              "      <th>Total Pedalcyclist Fatality Count</th>\n",
              "      <th>Total Pedalcyclist Non-Fatal Injury Count</th>\n",
              "      <th>Total Unknown Non-Motorist Count</th>\n",
              "      <th>Total Unknown Non-Motorist Fatality Count</th>\n",
              "      <th>Total Unknown Non-Motorist Injury Count</th>\n",
              "      <th>Total Vehicle Occupant Count</th>\n",
              "    </tr>\n",
              "  </thead>\n",
              "  <tbody>\n",
              "    <tr>\n",
              "      <th>count</th>\n",
              "      <td>508.000000</td>\n",
              "      <td>5.080000e+02</td>\n",
              "      <td>508.0</td>\n",
              "      <td>508.000000</td>\n",
              "      <td>508.000000</td>\n",
              "      <td>508.000000</td>\n",
              "      <td>508.0</td>\n",
              "      <td>508.000000</td>\n",
              "      <td>508.000000</td>\n",
              "      <td>508.000000</td>\n",
              "      <td>...</td>\n",
              "      <td>508.0</td>\n",
              "      <td>508.000000</td>\n",
              "      <td>508.0</td>\n",
              "      <td>508.0</td>\n",
              "      <td>508.0</td>\n",
              "      <td>508.000000</td>\n",
              "      <td>508.000000</td>\n",
              "      <td>508.000000</td>\n",
              "      <td>508.000000</td>\n",
              "      <td>508.000000</td>\n",
              "    </tr>\n",
              "    <tr>\n",
              "      <th>mean</th>\n",
              "      <td>1368.942913</td>\n",
              "      <td>1.845724e+06</td>\n",
              "      <td>1.0</td>\n",
              "      <td>5459.167323</td>\n",
              "      <td>6.011811</td>\n",
              "      <td>15.775591</td>\n",
              "      <td>2019.0</td>\n",
              "      <td>4.145669</td>\n",
              "      <td>14.153543</td>\n",
              "      <td>19.429134</td>\n",
              "      <td>...</td>\n",
              "      <td>0.0</td>\n",
              "      <td>0.007874</td>\n",
              "      <td>0.0</td>\n",
              "      <td>0.0</td>\n",
              "      <td>0.0</td>\n",
              "      <td>2.683071</td>\n",
              "      <td>2.730315</td>\n",
              "      <td>1.893701</td>\n",
              "      <td>0.055118</td>\n",
              "      <td>0.742126</td>\n",
              "    </tr>\n",
              "    <tr>\n",
              "      <th>std</th>\n",
              "      <td>810.869251</td>\n",
              "      <td>9.218482e+03</td>\n",
              "      <td>0.0</td>\n",
              "      <td>10171.318598</td>\n",
              "      <td>3.556234</td>\n",
              "      <td>8.401937</td>\n",
              "      <td>0.0</td>\n",
              "      <td>1.991709</td>\n",
              "      <td>9.131304</td>\n",
              "      <td>10.030766</td>\n",
              "      <td>...</td>\n",
              "      <td>0.0</td>\n",
              "      <td>0.088473</td>\n",
              "      <td>0.0</td>\n",
              "      <td>0.0</td>\n",
              "      <td>0.0</td>\n",
              "      <td>1.312942</td>\n",
              "      <td>1.282605</td>\n",
              "      <td>1.506239</td>\n",
              "      <td>0.403282</td>\n",
              "      <td>0.853371</td>\n",
              "    </tr>\n",
              "    <tr>\n",
              "      <th>min</th>\n",
              "      <td>0.000000</td>\n",
              "      <td>1.809119e+06</td>\n",
              "      <td>1.0</td>\n",
              "      <td>3.000000</td>\n",
              "      <td>1.000000</td>\n",
              "      <td>1.000000</td>\n",
              "      <td>2019.0</td>\n",
              "      <td>1.000000</td>\n",
              "      <td>0.000000</td>\n",
              "      <td>3.000000</td>\n",
              "      <td>...</td>\n",
              "      <td>0.0</td>\n",
              "      <td>0.000000</td>\n",
              "      <td>0.0</td>\n",
              "      <td>0.0</td>\n",
              "      <td>0.0</td>\n",
              "      <td>1.000000</td>\n",
              "      <td>1.000000</td>\n",
              "      <td>0.000000</td>\n",
              "      <td>0.000000</td>\n",
              "      <td>0.000000</td>\n",
              "    </tr>\n",
              "    <tr>\n",
              "      <th>25%</th>\n",
              "      <td>649.750000</td>\n",
              "      <td>1.840652e+06</td>\n",
              "      <td>1.0</td>\n",
              "      <td>1504.750000</td>\n",
              "      <td>3.000000</td>\n",
              "      <td>8.000000</td>\n",
              "      <td>2019.0</td>\n",
              "      <td>2.000000</td>\n",
              "      <td>10.000000</td>\n",
              "      <td>3.000000</td>\n",
              "      <td>...</td>\n",
              "      <td>0.0</td>\n",
              "      <td>0.000000</td>\n",
              "      <td>0.0</td>\n",
              "      <td>0.0</td>\n",
              "      <td>0.0</td>\n",
              "      <td>2.000000</td>\n",
              "      <td>2.000000</td>\n",
              "      <td>1.000000</td>\n",
              "      <td>0.000000</td>\n",
              "      <td>0.000000</td>\n",
              "    </tr>\n",
              "    <tr>\n",
              "      <th>50%</th>\n",
              "      <td>1361.500000</td>\n",
              "      <td>1.847382e+06</td>\n",
              "      <td>1.0</td>\n",
              "      <td>3280.500000</td>\n",
              "      <td>6.000000</td>\n",
              "      <td>16.000000</td>\n",
              "      <td>2019.0</td>\n",
              "      <td>4.000000</td>\n",
              "      <td>14.000000</td>\n",
              "      <td>26.000000</td>\n",
              "      <td>...</td>\n",
              "      <td>0.0</td>\n",
              "      <td>0.000000</td>\n",
              "      <td>0.0</td>\n",
              "      <td>0.0</td>\n",
              "      <td>0.0</td>\n",
              "      <td>2.000000</td>\n",
              "      <td>2.000000</td>\n",
              "      <td>2.000000</td>\n",
              "      <td>0.000000</td>\n",
              "      <td>1.000000</td>\n",
              "    </tr>\n",
              "    <tr>\n",
              "      <th>75%</th>\n",
              "      <td>2079.250000</td>\n",
              "      <td>1.852390e+06</td>\n",
              "      <td>1.0</td>\n",
              "      <td>7332.500000</td>\n",
              "      <td>9.000000</td>\n",
              "      <td>23.000000</td>\n",
              "      <td>2019.0</td>\n",
              "      <td>6.000000</td>\n",
              "      <td>17.000000</td>\n",
              "      <td>26.000000</td>\n",
              "      <td>...</td>\n",
              "      <td>0.0</td>\n",
              "      <td>0.000000</td>\n",
              "      <td>0.0</td>\n",
              "      <td>0.0</td>\n",
              "      <td>0.0</td>\n",
              "      <td>3.000000</td>\n",
              "      <td>3.000000</td>\n",
              "      <td>3.000000</td>\n",
              "      <td>0.000000</td>\n",
              "      <td>1.000000</td>\n",
              "    </tr>\n",
              "    <tr>\n",
              "      <th>max</th>\n",
              "      <td>2734.000000</td>\n",
              "      <td>1.860771e+06</td>\n",
              "      <td>1.0</td>\n",
              "      <td>99992.000000</td>\n",
              "      <td>12.000000</td>\n",
              "      <td>31.000000</td>\n",
              "      <td>2019.0</td>\n",
              "      <td>7.000000</td>\n",
              "      <td>99.000000</td>\n",
              "      <td>26.000000</td>\n",
              "      <td>...</td>\n",
              "      <td>0.0</td>\n",
              "      <td>1.000000</td>\n",
              "      <td>0.0</td>\n",
              "      <td>0.0</td>\n",
              "      <td>0.0</td>\n",
              "      <td>9.000000</td>\n",
              "      <td>9.000000</td>\n",
              "      <td>9.000000</td>\n",
              "      <td>7.000000</td>\n",
              "      <td>5.000000</td>\n",
              "    </tr>\n",
              "  </tbody>\n",
              "</table>\n",
              "<p>8 rows × 87 columns</p>\n",
              "</div>\n",
              "      <button class=\"colab-df-convert\" onclick=\"convertToInteractive('df-6bfb463f-2c87-4c95-b26a-3807f4ebdbe4')\"\n",
              "              title=\"Convert this dataframe to an interactive table.\"\n",
              "              style=\"display:none;\">\n",
              "        \n",
              "  <svg xmlns=\"http://www.w3.org/2000/svg\" height=\"24px\"viewBox=\"0 0 24 24\"\n",
              "       width=\"24px\">\n",
              "    <path d=\"M0 0h24v24H0V0z\" fill=\"none\"/>\n",
              "    <path d=\"M18.56 5.44l.94 2.06.94-2.06 2.06-.94-2.06-.94-.94-2.06-.94 2.06-2.06.94zm-11 1L8.5 8.5l.94-2.06 2.06-.94-2.06-.94L8.5 2.5l-.94 2.06-2.06.94zm10 10l.94 2.06.94-2.06 2.06-.94-2.06-.94-.94-2.06-.94 2.06-2.06.94z\"/><path d=\"M17.41 7.96l-1.37-1.37c-.4-.4-.92-.59-1.43-.59-.52 0-1.04.2-1.43.59L10.3 9.45l-7.72 7.72c-.78.78-.78 2.05 0 2.83L4 21.41c.39.39.9.59 1.41.59.51 0 1.02-.2 1.41-.59l7.78-7.78 2.81-2.81c.8-.78.8-2.07 0-2.86zM5.41 20L4 18.59l7.72-7.72 1.47 1.35L5.41 20z\"/>\n",
              "  </svg>\n",
              "      </button>\n",
              "      \n",
              "  <style>\n",
              "    .colab-df-container {\n",
              "      display:flex;\n",
              "      flex-wrap:wrap;\n",
              "      gap: 12px;\n",
              "    }\n",
              "\n",
              "    .colab-df-convert {\n",
              "      background-color: #E8F0FE;\n",
              "      border: none;\n",
              "      border-radius: 50%;\n",
              "      cursor: pointer;\n",
              "      display: none;\n",
              "      fill: #1967D2;\n",
              "      height: 32px;\n",
              "      padding: 0 0 0 0;\n",
              "      width: 32px;\n",
              "    }\n",
              "\n",
              "    .colab-df-convert:hover {\n",
              "      background-color: #E2EBFA;\n",
              "      box-shadow: 0px 1px 2px rgba(60, 64, 67, 0.3), 0px 1px 3px 1px rgba(60, 64, 67, 0.15);\n",
              "      fill: #174EA6;\n",
              "    }\n",
              "\n",
              "    [theme=dark] .colab-df-convert {\n",
              "      background-color: #3B4455;\n",
              "      fill: #D2E3FC;\n",
              "    }\n",
              "\n",
              "    [theme=dark] .colab-df-convert:hover {\n",
              "      background-color: #434B5C;\n",
              "      box-shadow: 0px 1px 3px 1px rgba(0, 0, 0, 0.15);\n",
              "      filter: drop-shadow(0px 1px 2px rgba(0, 0, 0, 0.3));\n",
              "      fill: #FFFFFF;\n",
              "    }\n",
              "  </style>\n",
              "\n",
              "      <script>\n",
              "        const buttonEl =\n",
              "          document.querySelector('#df-6bfb463f-2c87-4c95-b26a-3807f4ebdbe4 button.colab-df-convert');\n",
              "        buttonEl.style.display =\n",
              "          google.colab.kernel.accessAllowed ? 'block' : 'none';\n",
              "\n",
              "        async function convertToInteractive(key) {\n",
              "          const element = document.querySelector('#df-6bfb463f-2c87-4c95-b26a-3807f4ebdbe4');\n",
              "          const dataTable =\n",
              "            await google.colab.kernel.invokeFunction('convertToInteractive',\n",
              "                                                     [key], {});\n",
              "          if (!dataTable) return;\n",
              "\n",
              "          const docLinkHtml = 'Like what you see? Visit the ' +\n",
              "            '<a target=\"_blank\" href=https://colab.research.google.com/notebooks/data_table.ipynb>data table notebook</a>'\n",
              "            + ' to learn more about interactive tables.';\n",
              "          element.innerHTML = '';\n",
              "          dataTable['output_type'] = 'display_data';\n",
              "          await google.colab.output.renderOutput(dataTable, element);\n",
              "          const docLink = document.createElement('div');\n",
              "          docLink.innerHTML = docLinkHtml;\n",
              "          element.appendChild(docLink);\n",
              "        }\n",
              "      </script>\n",
              "    </div>\n",
              "  </div>\n",
              "  "
            ]
          },
          "metadata": {},
          "execution_count": 35
        }
      ]
    },
    {
      "cell_type": "code",
      "execution_count": null,
      "metadata": {
        "colab": {
          "base_uri": "https://localhost:8080/"
        },
        "id": "I9iJc0N-NDRF",
        "outputId": "6f47895b-69b9-4940-e34d-a22029a9804a"
      },
      "outputs": [
        {
          "name": "stdout",
          "output_type": "stream",
          "text": [
            "/content\n",
            "Traceback (most recent call last):\n",
            "  File \"/content/colab_workflow/colab_integration.ipynb\", line 5, in <module>\n",
            "    \"execution_count\": null,\n",
            "NameError: name 'null' is not defined\n"
          ]
        }
      ],
      "source": [
        "!pwd\n",
        "!python /content/colab_workflow/colab_integration.ipynb"
      ]
    },
    {
      "cell_type": "code",
      "execution_count": null,
      "metadata": {
        "colab": {
          "base_uri": "https://localhost:8080/"
        },
        "id": "ex1uZP0dQ7D1",
        "outputId": "b1816b94-bb49-47ea-d965-5eaabd1bc300"
      },
      "outputs": [
        {
          "name": "stdout",
          "output_type": "stream",
          "text": [
            "hello world!\n",
            "        Unnamed: 0  ...  Total Vehicle Occupant Count\n",
            "count   508.000000  ...                    508.000000\n",
            "mean   1368.942913  ...                      0.742126\n",
            "std     810.869251  ...                      0.853371\n",
            "min       0.000000  ...                      0.000000\n",
            "25%     649.750000  ...                      0.000000\n",
            "50%    1361.500000  ...                      1.000000\n",
            "75%    2079.250000  ...                      1.000000\n",
            "max    2734.000000  ...                      5.000000\n",
            "\n",
            "[8 rows x 87 columns]\n"
          ]
        }
      ],
      "source": [
        "try:\n",
        "  import google.colab\n",
        "  IN_COLAB = True\n",
        "  \"This notebook is running in Google Colab\"\n",
        "  !python /content/data_engineering_data_validation/test.py\n",
        "except:\n",
        "  IN_COLAB = False"
      ]
    },
    {
      "cell_type": "code",
      "execution_count": null,
      "metadata": {
        "id": "rPrtO8kNHjQv"
      },
      "outputs": [],
      "source": [
        "# !cd /content/GDrive/MyDrive/Plants_Images"
      ]
    },
    {
      "cell_type": "code",
      "execution_count": null,
      "metadata": {
        "id": "CLWsGA3aHoZP"
      },
      "outputs": [],
      "source": [
        "# !cd /content/GDrive/MyDrive/atari_reinforcement_learning/src"
      ]
    },
    {
      "cell_type": "code",
      "execution_count": null,
      "metadata": {
        "colab": {
          "base_uri": "https://localhost:8080/"
        },
        "id": "BksF4J1mHxEO",
        "outputId": "268c7ecb-42be-480f-9306-2e983157397e"
      },
      "outputs": [
        {
          "name": "stdout",
          "output_type": "stream",
          "text": [
            "GDrive\tsample_data\n"
          ]
        }
      ],
      "source": [
        "# !ls"
      ]
    },
    {
      "cell_type": "code",
      "execution_count": null,
      "metadata": {
        "id": "rGd_UjT4H10V"
      },
      "outputs": [],
      "source": []
    }
  ],
  "metadata": {
    "colab": {
      "provenance": [],
      "collapsed_sections": [],
      "include_colab_link": true
    },
    "kernelspec": {
      "display_name": "Python 3",
      "name": "python3"
    },
    "language_info": {
      "name": "python"
    }
  },
  "nbformat": 4,
  "nbformat_minor": 0
}