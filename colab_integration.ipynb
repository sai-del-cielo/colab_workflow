{
  "cells": [
    {
      "cell_type": "code",
      "execution_count": 1,
      "metadata": {
        "colab": {
          "base_uri": "https://localhost:8080/"
        },
        "id": "Tz5wlfmhZG4q",
        "outputId": "d2e2c353-05a1-4fcc-aeed-8f21aefe217b"
      },
      "outputs": [
        {
          "name": "stdout",
          "output_type": "stream",
          "text": [
            "Mounted at /content/GDrive\n"
          ]
        }
      ],
      "source": [
        "from google.colab import drive\n",
        "import os\n",
        "drive.mount('/content/GDrive')\n",
        "\n",
        "import pandas as pd"
      ]
    },
    {
      "cell_type": "code",
      "execution_count": null,
      "metadata": {},
      "outputs": [],
      "source": [
        "# Edited on VS code and pushed to Github via VSCode GUI\n",
        "print(\"Github sucks\")"
      ]
    },
    {
      "cell_type": "code",
      "execution_count": null,
      "metadata": {},
      "outputs": [],
      "source": [
        "import pandas\n",
        "\n",
        "\n",
        "data = \"/content/GDrive/MyDrive/drive Crash data.csv\"\n",
        "\n",
        "df = pandas.read_csv(data)\n",
        "df.describe()"
      ]
    }
  ],
  "metadata": {
    "colab": {
      "provenance": []
    },
    "kernelspec": {
      "display_name": "Python 3.9.7 ('base')",
      "language": "python",
      "name": "python3"
    },
    "language_info": {
      "name": "python",
      "version": "3.9.7"
    },
    "orig_nbformat": 4,
    "vscode": {
      "interpreter": {
        "hash": "58de5513f25a4464de4661bf3fa550a75681620b9b728e592c5d663e2a022523"
      }
    }
  },
  "nbformat": 4,
  "nbformat_minor": 0
}
