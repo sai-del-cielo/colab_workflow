{
 "cells": [
  {
   "cell_type": "code",
   "execution_count": null,
   "metadata": {},
   "outputs": [],
   "source": []
  }
 ],
 "metadata": {
  "kernelspec": {
   "display_name": "Python 3.9.7 ('base')",
   "language": "python",
   "name": "python3"
  },
  "language_info": {
   "name": "python",
   "version": "3.9.7"
  },
  "orig_nbformat": 4,
  "vscode": {
   "interpreter": {
    "hash": "58de5513f25a4464de4661bf3fa550a75681620b9b728e592c5d663e2a022523"
   }
  }
 },
 "nbformat": 4,
 "nbformat_minor": 2
}
